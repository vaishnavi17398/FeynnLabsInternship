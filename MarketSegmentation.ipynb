{
  "nbformat": 4,
  "nbformat_minor": 0,
  "metadata": {
    "colab": {
      "provenance": [],
      "authorship_tag": "ABX9TyMldiSoANnGc6JJw94DhkYH",
      "include_colab_link": true
    },
    "kernelspec": {
      "name": "python3",
      "display_name": "Python 3"
    },
    "language_info": {
      "name": "python"
    }
  },
  "cells": [
    {
      "cell_type": "markdown",
      "metadata": {
        "id": "view-in-github",
        "colab_type": "text"
      },
      "source": [
        "<a href=\"https://colab.research.google.com/github/vaishnavi17398/FeynnLabsInternship/blob/main/MarketSegmentation.ipynb\" target=\"_parent\"><img src=\"https://colab.research.google.com/assets/colab-badge.svg\" alt=\"Open In Colab\"/></a>"
      ]
    },
    {
      "cell_type": "code",
      "execution_count": null,
      "metadata": {
        "id": "CiILLyPN6Sf4"
      },
      "outputs": [],
      "source": [
        "import pandas as pd\n",
        "import numpy as np\n",
        "import re\n",
        "import nltk\n",
        "from nltk.corpus import stopwords\n",
        "from nltk.tokenize import word_tokenize\n",
        "from nltk.stem import WordNetLemmatizer"
      ]
    },
    {
      "cell_type": "code",
      "source": [
        "nltk.download('punkt')\n",
        "nltk.download('stopwords')\n",
        "nltk.download('wordnet')"
      ],
      "metadata": {
        "colab": {
          "base_uri": "https://localhost:8080/"
        },
        "id": "YTQl24s-6_oF",
        "outputId": "52201ae1-6b52-4eda-8d5a-a2bfaa091cfe"
      },
      "execution_count": null,
      "outputs": [
        {
          "output_type": "stream",
          "name": "stderr",
          "text": [
            "[nltk_data] Downloading package punkt to /root/nltk_data...\n",
            "[nltk_data]   Unzipping tokenizers/punkt.zip.\n",
            "[nltk_data] Downloading package stopwords to /root/nltk_data...\n",
            "[nltk_data]   Unzipping corpora/stopwords.zip.\n",
            "[nltk_data] Downloading package wordnet to /root/nltk_data...\n"
          ]
        },
        {
          "output_type": "execute_result",
          "data": {
            "text/plain": [
              "True"
            ]
          },
          "metadata": {},
          "execution_count": 2
        }
      ]
    },
    {
      "cell_type": "code",
      "source": [
        "df = pd.read_csv('2-wheeler-EV-bikewale.csv')"
      ],
      "metadata": {
        "id": "n_AItRG67DJ-"
      },
      "execution_count": null,
      "outputs": []
    },
    {
      "cell_type": "code",
      "source": [
        "def clean_text(text):\n",
        "    if isinstance(text, str):  # Check if the input is a string\n",
        "        text = re.sub(r'[^\\w\\s]', '', text)  # Remove punctuation\n",
        "        text = text.lower()  # Convert text to lowercase\n",
        "        tokens = word_tokenize(text)  # Tokenize text\n",
        "        tokens = [word for word in tokens if word not in stopwords.words('english')]  # Remove stopwords\n",
        "        lemmatizer = WordNetLemmatizer()\n",
        "        tokens = [lemmatizer.lemmatize(word) for word in tokens]  # Lemmatize words\n",
        "        return ' '.join(tokens)\n",
        "    else:\n",
        "        return ''  # Return empty string if input is not a string\n"
      ],
      "metadata": {
        "id": "7THq_He-7fUo"
      },
      "execution_count": null,
      "outputs": []
    },
    {
      "cell_type": "code",
      "source": [
        "# Clean and preprocess the 'review' column\n",
        "df['clean_review'] = df['review'].apply(clean_text)"
      ],
      "metadata": {
        "id": "XzqASRsw7owq"
      },
      "execution_count": null,
      "outputs": []
    },
    {
      "cell_type": "code",
      "source": [
        "# Check the data types of columns in the dataframe\n",
        "print(df.dtypes)"
      ],
      "metadata": {
        "colab": {
          "base_uri": "https://localhost:8080/"
        },
        "id": "BuvV1JqL7z6R",
        "outputId": "c5b1c1d3-9256-4cb4-ae2f-7d86fdbf13ec"
      },
      "execution_count": null,
      "outputs": [
        {
          "output_type": "stream",
          "name": "stdout",
          "text": [
            "review                 object\n",
            "Used it for            object\n",
            "Owned for              object\n",
            "Ridden for             object\n",
            "rating                  int64\n",
            "Visual Appeal         float64\n",
            "Reliability           float64\n",
            "Performance           float64\n",
            "Service Experience    float64\n",
            "Extra Features        float64\n",
            "Comfort               float64\n",
            "Maintenance cost      float64\n",
            "Value for Money       float64\n",
            "Model Name             object\n",
            "dtype: object\n"
          ]
        }
      ]
    },
    {
      "cell_type": "code",
      "source": [
        "#proceeding with customer segmentation using TF-IDF vectorization followed by KMeans clustering."
      ],
      "metadata": {
        "id": "fqN7JsSw7-2t"
      },
      "execution_count": null,
      "outputs": []
    },
    {
      "cell_type": "code",
      "source": [
        "from sklearn.feature_extraction.text import TfidfVectorizer\n",
        "from sklearn.cluster import KMeans\n",
        "from sklearn.metrics import silhouette_score"
      ],
      "metadata": {
        "id": "ndw8A2ES8kaE"
      },
      "execution_count": null,
      "outputs": []
    },
    {
      "cell_type": "code",
      "source": [
        "# Vectorize the text data using TF-IDF\n",
        "vectorizer = TfidfVectorizer()\n",
        "X = vectorizer.fit_transform(df['clean_review'])\n"
      ],
      "metadata": {
        "id": "FeKvbfWk8n-v"
      },
      "execution_count": null,
      "outputs": []
    },
    {
      "cell_type": "code",
      "source": [
        "# Determine the optimal number of clusters using silhouette score\n",
        "max_clusters = 10\n",
        "best_score = -1\n",
        "best_k = 2\n",
        "for k in range(2, max_clusters + 1):\n",
        "    kmeans = KMeans(n_clusters=k, random_state=42)\n",
        "    kmeans.fit(X)\n",
        "    labels = kmeans.labels_\n",
        "    score = silhouette_score(X, labels)\n",
        "    if score > best_score:\n",
        "        best_score = score\n",
        "        best_k = k"
      ],
      "metadata": {
        "colab": {
          "base_uri": "https://localhost:8080/"
        },
        "id": "6IYgNg0J8q6w",
        "outputId": "2dfee40f-90f4-4de9-b316-c7c6b6c6d97e"
      },
      "execution_count": null,
      "outputs": [
        {
          "output_type": "stream",
          "name": "stderr",
          "text": [
            "/usr/local/lib/python3.10/dist-packages/sklearn/cluster/_kmeans.py:870: FutureWarning: The default value of `n_init` will change from 10 to 'auto' in 1.4. Set the value of `n_init` explicitly to suppress the warning\n",
            "  warnings.warn(\n",
            "/usr/local/lib/python3.10/dist-packages/sklearn/cluster/_kmeans.py:870: FutureWarning: The default value of `n_init` will change from 10 to 'auto' in 1.4. Set the value of `n_init` explicitly to suppress the warning\n",
            "  warnings.warn(\n",
            "/usr/local/lib/python3.10/dist-packages/sklearn/cluster/_kmeans.py:870: FutureWarning: The default value of `n_init` will change from 10 to 'auto' in 1.4. Set the value of `n_init` explicitly to suppress the warning\n",
            "  warnings.warn(\n",
            "/usr/local/lib/python3.10/dist-packages/sklearn/cluster/_kmeans.py:870: FutureWarning: The default value of `n_init` will change from 10 to 'auto' in 1.4. Set the value of `n_init` explicitly to suppress the warning\n",
            "  warnings.warn(\n",
            "/usr/local/lib/python3.10/dist-packages/sklearn/cluster/_kmeans.py:870: FutureWarning: The default value of `n_init` will change from 10 to 'auto' in 1.4. Set the value of `n_init` explicitly to suppress the warning\n",
            "  warnings.warn(\n",
            "/usr/local/lib/python3.10/dist-packages/sklearn/cluster/_kmeans.py:870: FutureWarning: The default value of `n_init` will change from 10 to 'auto' in 1.4. Set the value of `n_init` explicitly to suppress the warning\n",
            "  warnings.warn(\n",
            "/usr/local/lib/python3.10/dist-packages/sklearn/cluster/_kmeans.py:870: FutureWarning: The default value of `n_init` will change from 10 to 'auto' in 1.4. Set the value of `n_init` explicitly to suppress the warning\n",
            "  warnings.warn(\n",
            "/usr/local/lib/python3.10/dist-packages/sklearn/cluster/_kmeans.py:870: FutureWarning: The default value of `n_init` will change from 10 to 'auto' in 1.4. Set the value of `n_init` explicitly to suppress the warning\n",
            "  warnings.warn(\n",
            "/usr/local/lib/python3.10/dist-packages/sklearn/cluster/_kmeans.py:870: FutureWarning: The default value of `n_init` will change from 10 to 'auto' in 1.4. Set the value of `n_init` explicitly to suppress the warning\n",
            "  warnings.warn(\n"
          ]
        }
      ]
    },
    {
      "cell_type": "code",
      "source": [
        "# Perform KMeans clustering with the optimal number of clusters\n",
        "kmeans = KMeans(n_clusters=best_k, random_state=42)\n",
        "kmeans.fit(X)\n",
        "df['cluster'] = kmeans.labels_"
      ],
      "metadata": {
        "colab": {
          "base_uri": "https://localhost:8080/"
        },
        "id": "bYm6gRk48unS",
        "outputId": "952b35aa-6517-40bd-be5a-0fd21f5e9098"
      },
      "execution_count": null,
      "outputs": [
        {
          "output_type": "stream",
          "name": "stderr",
          "text": [
            "/usr/local/lib/python3.10/dist-packages/sklearn/cluster/_kmeans.py:870: FutureWarning: The default value of `n_init` will change from 10 to 'auto' in 1.4. Set the value of `n_init` explicitly to suppress the warning\n",
            "  warnings.warn(\n"
          ]
        }
      ]
    },
    {
      "cell_type": "code",
      "source": [
        "# Display the clusters\n",
        "print(df[['clean_review', 'cluster']])"
      ],
      "metadata": {
        "colab": {
          "base_uri": "https://localhost:8080/"
        },
        "id": "8lIGU7zl8zhF",
        "outputId": "c4b1ea19-445d-4dd5-f86e-4725c797e2ef"
      },
      "execution_count": null,
      "outputs": [
        {
          "output_type": "stream",
          "name": "stdout",
          "text": [
            "                                          clean_review  cluster\n",
            "0    checked bike capacity 150 km 1 full charge giv...        1\n",
            "1    performance poor bike charging problem big thi...        0\n",
            "2    purchased april 2022 sale staff clueless new v...        1\n",
            "3    issue come scooty part available service centr...        0\n",
            "4    dont buy vehicle unless near tv iqube service ...        0\n",
            "..                                                 ...      ...\n",
            "839  scooty ok 250 motor power le scooter power one...        1\n",
            "840  superb scooty good look many color option le s...        1\n",
            "841  2 year condition good 2 year scooter stopped m...        0\n",
            "842  compare scooter best bike comfortable seat dri...        1\n",
            "843  bike good segment use person aged 12 plus spee...        1\n",
            "\n",
            "[844 rows x 2 columns]\n"
          ]
        }
      ]
    },
    {
      "cell_type": "code",
      "source": [
        "#performing some analysis on the clustered data."
      ],
      "metadata": {
        "id": "Q5UXJYWm83Cn"
      },
      "execution_count": null,
      "outputs": []
    },
    {
      "cell_type": "code",
      "source": [
        "from collections import Counter\n",
        "import matplotlib.pyplot as plt"
      ],
      "metadata": {
        "id": "Q2WqK9xa88-w"
      },
      "execution_count": null,
      "outputs": []
    },
    {
      "cell_type": "code",
      "source": [
        "# Function to get the most common words in a cluster\n",
        "def get_most_common_words(cluster_id, n_words=10):\n",
        "    cluster_reviews = df[df['cluster'] == cluster_id]['clean_review']\n",
        "    all_words = ' '.join(cluster_reviews).split()\n",
        "    word_counts = Counter(all_words)\n",
        "    return word_counts.most_common(n_words)"
      ],
      "metadata": {
        "id": "zCR2nwn68_28"
      },
      "execution_count": null,
      "outputs": []
    },
    {
      "cell_type": "code",
      "source": [
        "# Function to plot the most common words in each cluster\n",
        "def plot_most_common_words(cluster_id):\n",
        "    word_freq = get_most_common_words(cluster_id)\n",
        "    words, frequencies = zip(*word_freq)\n",
        "    plt.figure(figsize=(10, 6))\n",
        "    plt.barh(words, frequencies, color='skyblue')\n",
        "    plt.xlabel('Frequency')\n",
        "    plt.ylabel('Word')\n",
        "    plt.title(f'Most Common Words in Cluster {cluster_id}')\n",
        "    plt.gca().invert_yaxis()\n",
        "    plt.show()"
      ],
      "metadata": {
        "id": "aw_jZjUv9Cqa"
      },
      "execution_count": null,
      "outputs": []
    },
    {
      "cell_type": "code",
      "source": [
        "# Plot the most common words in each cluster\n",
        "for cluster_id in range(best_k):\n",
        "    plot_most_common_words(cluster_id)"
      ],
      "metadata": {
        "colab": {
          "base_uri": "https://localhost:8080/",
          "height": 1000
        },
        "id": "BLKpiQVS9GKm",
        "outputId": "af0e16bd-d2bf-4436-b505-024bb6b4ecd4"
      },
      "execution_count": null,
      "outputs": [
        {
          "output_type": "display_data",
          "data": {
            "text/plain": [
              "<Figure size 1000x600 with 1 Axes>"
            ],
            "image/png": "[encoded data removed]"
          },
          "metadata": {}
        },
        {
          "output_type": "display_data",
          "data": {
            "text/plain": [
              "<Figure size 1000x600 with 1 Axes>"
            ],
            "image/png": "[encoded data removed]"
          },
          "metadata": {}
        }
      ]
    },
    {
      "cell_type": "code",
      "source": [
        "# Summary statistics for each cluster\n",
        "cluster_stats = df.groupby('cluster').agg({\n",
        "    'rating': ['mean', 'median'],\n",
        "    'Visual Appeal': ['mean', 'median'],\n",
        "    'Reliability': ['mean', 'median'],\n",
        "    'Performance': ['mean', 'median'],\n",
        "    'Service Experience': ['mean', 'median'],\n",
        "    'Extra Features': ['mean', 'median'],\n",
        "    'Comfort': ['mean', 'median'],\n",
        "    'Maintenance cost': ['mean', 'median'],\n",
        "    'Value for Money': ['mean', 'median']\n",
        "})\n",
        "print(cluster_stats)"
      ],
      "metadata": {
        "colab": {
          "base_uri": "https://localhost:8080/"
        },
        "id": "6t_pdLjs9LaJ",
        "outputId": "c520302a-25ab-40cc-afd3-7931e06c6beb"
      },
      "execution_count": null,
      "outputs": [
        {
          "output_type": "stream",
          "name": "stdout",
          "text": [
            "           rating        Visual Appeal        Reliability        Performance  \\\n",
            "             mean median          mean median        mean median        mean   \n",
            "cluster                                                                        \n",
            "0        1.551237    1.0      2.662551    3.0    1.726141    1.0    2.110169   \n",
            "1        4.278075    5.0      4.326613    5.0    4.120000    4.0    4.264317   \n",
            "\n",
            "               Service Experience        Extra Features          Comfort  \\\n",
            "        median               mean median           mean median      mean   \n",
            "cluster                                                                    \n",
            "0          2.0           1.514286    1.0       1.693182    1.0  2.308219   \n",
            "1          5.0           4.017467    4.0       4.061856    4.0  4.179688   \n",
            "\n",
            "               Maintenance cost        Value for Money         \n",
            "        median             mean median            mean median  \n",
            "cluster                                                        \n",
            "0          2.0         2.445783    2.0        1.808000    1.0  \n",
            "1          4.0         4.206186    4.0        4.124528    4.0  \n"
          ]
        }
      ]
    },
    {
      "cell_type": "code",
      "source": [],
      "metadata": {
        "id": "m2zhJ-jL9Ph3"
      },
      "execution_count": null,
      "outputs": []
    },
    {
      "cell_type": "markdown",
      "source": [
        "Conclusions :"
      ],
      "metadata": {
        "id": "iy2R7eVH9m1i"
      }
    },
    {
      "cell_type": "markdown",
      "source": [
        "\n",
        "\n",
        "Rating:\n",
        "\n",
        "Cluster 0 has significantly lower mean and median ratings compared to Cluster 1. This suggests that customers in Cluster 0 generally rated their experience lower across various aspects.\n",
        "Visual Appeal, Reliability, Performance, Service Experience, Extra Features, Comfort, Maintenance Cost, Value for Money:\n",
        "\n",
        "For all these aspects, Cluster 1 consistently has higher mean and median ratings compared to Cluster 0.\n",
        "Cluster 1 generally perceives the product more positively across these aspects compared to Cluster 0.\n",
        "Notably, the difference in ratings is most pronounced in Visual Appeal, Reliability, and Value for Money, where Cluster 1 has substantially higher ratings.\n",
        "\n"
      ],
      "metadata": {
        "id": "k6QMzY7o9pHq"
      }
    },
    {
      "cell_type": "code",
      "source": [],
      "metadata": {
        "id": "mAFPo7-U-VEC"
      },
      "execution_count": null,
      "outputs": []
    },
    {
      "cell_type": "markdown",
      "source": [
        "By segmenting customers based on their reviews, the EV startup can gain a deeper understanding of customer preferences and priorities."
      ],
      "metadata": {
        "id": "78VNyMic-Vb1"
      }
    },
    {
      "cell_type": "code",
      "source": [],
      "metadata": {
        "id": "mRCrpZfy-Wbf"
      },
      "execution_count": null,
      "outputs": []
    },
    {
      "cell_type": "markdown",
      "source": [
        "Summary : Data Collection:\n",
        "\n",
        "Data Preprocessing: I cleaned and preprocessed the text data by removing punctuation, converting text to lowercase, tokenizing, removing stopwords, and lemmatizing. This prepared the textual reviews for further analysis.\n",
        "\n",
        "Customer Segmentation: Using machine learning techniques such as TF-IDF vectorization and KMeans clustering, I segmented customers based on their reviews into distinct clusters to identify different customer segments with unique preferences and perceptions of the product.\n",
        "\n",
        "Analysis of Clusters: I analyzed the summary statistics for each cluster, comparing mean and median ratings across various aspects of the product. This provided insights into differences in customer perceptions and preferences between the clusters."
      ],
      "metadata": {
        "id": "5MLzwUXI-XI5"
      }
    }
  ]
}