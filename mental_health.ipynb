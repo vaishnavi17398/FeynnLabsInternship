{
  "nbformat": 4,
  "nbformat_minor": 0,
  "metadata": {
    "colab": {
      "provenance": [],
      "authorship_tag": "ABX9TyOvQ0AW7CND9q5fKyeJLW6y",
      "include_colab_link": true
    },
    "kernelspec": {
      "name": "python3",
      "display_name": "Python 3"
    },
    "language_info": {
      "name": "python"
    }
  },
  "cells": [
    {
      "cell_type": "markdown",
      "metadata": {
        "id": "view-in-github",
        "colab_type": "text"
      },
      "source": [
        "<a href=\"https://colab.research.google.com/github/vaishnavi17398/FeynnLabsInternship/blob/main/mental_health.ipynb\" target=\"_parent\"><img src=\"https://colab.research.google.com/assets/colab-badge.svg\" alt=\"Open In Colab\"/></a>"
      ]
    },
    {
      "cell_type": "code",
      "execution_count": 1,
      "metadata": {
        "colab": {
          "base_uri": "https://localhost:8080/",
          "height": 74
        },
        "id": "sbjZFglVF8fv",
        "outputId": "4abdbfe5-6513-4a4f-e845-b81e72dd6802"
      },
      "outputs": [
        {
          "output_type": "display_data",
          "data": {
            "text/plain": [
              "<IPython.core.display.HTML object>"
            ],
            "text/html": [
              "\n",
              "     <input type=\"file\" id=\"files-558b5057-76bd-4e18-9246-7180995bb157\" name=\"files[]\" multiple disabled\n",
              "        style=\"border:none\" />\n",
              "     <output id=\"result-558b5057-76bd-4e18-9246-7180995bb157\">\n",
              "      Upload widget is only available when the cell has been executed in the\n",
              "      current browser session. Please rerun this cell to enable.\n",
              "      </output>\n",
              "      <script>// Copyright 2017 Google LLC\n",
              "//\n",
              "// Licensed under the Apache License, Version 2.0 (the \"License\");\n",
              "// you may not use this file except in compliance with the License.\n",
              "// You may obtain a copy of the License at\n",
              "//\n",
              "//      http://www.apache.org/licenses/LICENSE-2.0\n",
              "//\n",
              "// Unless required by applicable law or agreed to in writing, software\n",
              "// distributed under the License is distributed on an \"AS IS\" BASIS,\n",
              "// WITHOUT WARRANTIES OR CONDITIONS OF ANY KIND, either express or implied.\n",
              "// See the License for the specific language governing permissions and\n",
              "// limitations under the License.\n",
              "\n",
              "/**\n",
              " * @fileoverview Helpers for google.colab Python module.\n",
              " */\n",
              "(function(scope) {\n",
              "function span(text, styleAttributes = {}) {\n",
              "  const element = document.createElement('span');\n",
              "  element.textContent = text;\n",
              "  for (const key of Object.keys(styleAttributes)) {\n",
              "    element.style[key] = styleAttributes[key];\n",
              "  }\n",
              "  return element;\n",
              "}\n",
              "\n",
              "// Max number of bytes which will be uploaded at a time.\n",
              "const MAX_PAYLOAD_SIZE = 100 * 1024;\n",
              "\n",
              "function _uploadFiles(inputId, outputId) {\n",
              "  const steps = uploadFilesStep(inputId, outputId);\n",
              "  const outputElement = document.getElementById(outputId);\n",
              "  // Cache steps on the outputElement to make it available for the next call\n",
              "  // to uploadFilesContinue from Python.\n",
              "  outputElement.steps = steps;\n",
              "\n",
              "  return _uploadFilesContinue(outputId);\n",
              "}\n",
              "\n",
              "// This is roughly an async generator (not supported in the browser yet),\n",
              "// where there are multiple asynchronous steps and the Python side is going\n",
              "// to poll for completion of each step.\n",
              "// This uses a Promise to block the python side on completion of each step,\n",
              "// then passes the result of the previous step as the input to the next step.\n",
              "function _uploadFilesContinue(outputId) {\n",
              "  const outputElement = document.getElementById(outputId);\n",
              "  const steps = outputElement.steps;\n",
              "\n",
              "  const next = steps.next(outputElement.lastPromiseValue);\n",
              "  return Promise.resolve(next.value.promise).then((value) => {\n",
              "    // Cache the last promise value to make it available to the next\n",
              "    // step of the generator.\n",
              "    outputElement.lastPromiseValue = value;\n",
              "    return next.value.response;\n",
              "  });\n",
              "}\n",
              "\n",
              "/**\n",
              " * Generator function which is called between each async step of the upload\n",
              " * process.\n",
              " * @param {string} inputId Element ID of the input file picker element.\n",
              " * @param {string} outputId Element ID of the output display.\n",
              " * @return {!Iterable<!Object>} Iterable of next steps.\n",
              " */\n",
              "function* uploadFilesStep(inputId, outputId) {\n",
              "  const inputElement = document.getElementById(inputId);\n",
              "  inputElement.disabled = false;\n",
              "\n",
              "  const outputElement = document.getElementById(outputId);\n",
              "  outputElement.innerHTML = '';\n",
              "\n",
              "  const pickedPromise = new Promise((resolve) => {\n",
              "    inputElement.addEventListener('change', (e) => {\n",
              "      resolve(e.target.files);\n",
              "    });\n",
              "  });\n",
              "\n",
              "  const cancel = document.createElement('button');\n",
              "  inputElement.parentElement.appendChild(cancel);\n",
              "  cancel.textContent = 'Cancel upload';\n",
              "  const cancelPromise = new Promise((resolve) => {\n",
              "    cancel.onclick = () => {\n",
              "      resolve(null);\n",
              "    };\n",
              "  });\n",
              "\n",
              "  // Wait for the user to pick the files.\n",
              "  const files = yield {\n",
              "    promise: Promise.race([pickedPromise, cancelPromise]),\n",
              "    response: {\n",
              "      action: 'starting',\n",
              "    }\n",
              "  };\n",
              "\n",
              "  cancel.remove();\n",
              "\n",
              "  // Disable the input element since further picks are not allowed.\n",
              "  inputElement.disabled = true;\n",
              "\n",
              "  if (!files) {\n",
              "    return {\n",
              "      response: {\n",
              "        action: 'complete',\n",
              "      }\n",
              "    };\n",
              "  }\n",
              "\n",
              "  for (const file of files) {\n",
              "    const li = document.createElement('li');\n",
              "    li.append(span(file.name, {fontWeight: 'bold'}));\n",
              "    li.append(span(\n",
              "        `(${file.type || 'n/a'}) - ${file.size} bytes, ` +\n",
              "        `last modified: ${\n",
              "            file.lastModifiedDate ? file.lastModifiedDate.toLocaleDateString() :\n",
              "                                    'n/a'} - `));\n",
              "    const percent = span('0% done');\n",
              "    li.appendChild(percent);\n",
              "\n",
              "    outputElement.appendChild(li);\n",
              "\n",
              "    const fileDataPromise = new Promise((resolve) => {\n",
              "      const reader = new FileReader();\n",
              "      reader.onload = (e) => {\n",
              "        resolve(e.target.result);\n",
              "      };\n",
              "      reader.readAsArrayBuffer(file);\n",
              "    });\n",
              "    // Wait for the data to be ready.\n",
              "    let fileData = yield {\n",
              "      promise: fileDataPromise,\n",
              "      response: {\n",
              "        action: 'continue',\n",
              "      }\n",
              "    };\n",
              "\n",
              "    // Use a chunked sending to avoid message size limits. See b/62115660.\n",
              "    let position = 0;\n",
              "    do {\n",
              "      const length = Math.min(fileData.byteLength - position, MAX_PAYLOAD_SIZE);\n",
              "      const chunk = new Uint8Array(fileData, position, length);\n",
              "      position += length;\n",
              "\n",
              "      const base64 = btoa(String.fromCharCode.apply(null, chunk));\n",
              "      yield {\n",
              "        response: {\n",
              "          action: 'append',\n",
              "          file: file.name,\n",
              "          data: base64,\n",
              "        },\n",
              "      };\n",
              "\n",
              "      let percentDone = fileData.byteLength === 0 ?\n",
              "          100 :\n",
              "          Math.round((position / fileData.byteLength) * 100);\n",
              "      percent.textContent = `${percentDone}% done`;\n",
              "\n",
              "    } while (position < fileData.byteLength);\n",
              "  }\n",
              "\n",
              "  // All done.\n",
              "  yield {\n",
              "    response: {\n",
              "      action: 'complete',\n",
              "    }\n",
              "  };\n",
              "}\n",
              "\n",
              "scope.google = scope.google || {};\n",
              "scope.google.colab = scope.google.colab || {};\n",
              "scope.google.colab._files = {\n",
              "  _uploadFiles,\n",
              "  _uploadFilesContinue,\n",
              "};\n",
              "})(self);\n",
              "</script> "
            ]
          },
          "metadata": {}
        },
        {
          "output_type": "stream",
          "name": "stdout",
          "text": [
            "Saving Mental health Depression disorder Data.csv to Mental health Depression disorder Data.csv\n"
          ]
        }
      ],
      "source": [
        "from google.colab import files\n",
        "uploaded = files.upload()\n"
      ]
    },
    {
      "cell_type": "code",
      "source": [
        "import pandas as pd\n",
        "from sklearn.cluster import KMeans\n",
        "from sklearn.preprocessing import StandardScaler\n",
        "import matplotlib.pyplot as plt"
      ],
      "metadata": {
        "id": "qX70IC5JGbw5"
      },
      "execution_count": 2,
      "outputs": []
    },
    {
      "cell_type": "code",
      "source": [
        "data = pd.read_csv(\"Mental health Depression disorder Data.csv\",error_bad_lines=False)"
      ],
      "metadata": {
        "colab": {
          "base_uri": "https://localhost:8080/"
        },
        "id": "wVt_QsDwGf1-",
        "outputId": "c33ef846-7c7b-42eb-e375-29dbd695683c"
      },
      "execution_count": 10,
      "outputs": [
        {
          "output_type": "stream",
          "name": "stderr",
          "text": [
            "<ipython-input-10-a31b09f117a8>:1: FutureWarning: The error_bad_lines argument has been deprecated and will be removed in a future version. Use on_bad_lines in the future.\n",
            "\n",
            "\n",
            "  data = pd.read_csv(\"Mental health Depression disorder Data.csv\",error_bad_lines=False)\n",
            "<ipython-input-10-a31b09f117a8>:1: DtypeWarning: Columns (5,6) have mixed types. Specify dtype option on import or set low_memory=False.\n",
            "  data = pd.read_csv(\"Mental health Depression disorder Data.csv\",error_bad_lines=False)\n"
          ]
        }
      ]
    },
    {
      "cell_type": "code",
      "source": [
        "# Drop non-relevant columns\n",
        "data = data.drop(columns=['index', 'Entity', 'Code', 'Year'])"
      ],
      "metadata": {
        "id": "1F_EQSEtGkJF"
      },
      "execution_count": 11,
      "outputs": []
    },
    {
      "cell_type": "code",
      "source": [
        "# Exclude non-numeric columns (assuming they are not relevant for clustering)\n",
        "numeric_data = data.select_dtypes(include=['float64', 'int64'])"
      ],
      "metadata": {
        "id": "x6J5rMxVHoCQ"
      },
      "execution_count": 13,
      "outputs": []
    },
    {
      "cell_type": "code",
      "source": [
        "# Normalize the data\n",
        "scaler = StandardScaler()\n",
        "scaled_data = scaler.fit_transform(numeric_data)"
      ],
      "metadata": {
        "id": "ugBkeDk5Gmgc"
      },
      "execution_count": 15,
      "outputs": []
    },
    {
      "cell_type": "code",
      "source": [
        "# Choose the number of clusters (you can use elbow method or silhouette score)\n",
        "num_clusters = 3"
      ],
      "metadata": {
        "id": "NthE-CTQGo10"
      },
      "execution_count": 7,
      "outputs": []
    },
    {
      "cell_type": "code",
      "source": [
        "# Apply K-means clustering\n",
        "# Apply K-means clustering\n",
        "kmeans = KMeans(n_clusters=3, random_state=42)\n",
        "kmeans.fit(scaled_data)\n",
        "labels = kmeans.labels_"
      ],
      "metadata": {
        "colab": {
          "base_uri": "https://localhost:8080/"
        },
        "id": "C6x6zMY3Grf8",
        "outputId": "0bafd9f1-5929-4c45-fb83-81c01e34c21a"
      },
      "execution_count": 23,
      "outputs": [
        {
          "output_type": "stream",
          "name": "stderr",
          "text": [
            "/usr/local/lib/python3.10/dist-packages/sklearn/cluster/_kmeans.py:870: FutureWarning: The default value of `n_init` will change from 10 to 'auto' in 1.4. Set the value of `n_init` explicitly to suppress the warning\n",
            "  warnings.warn(\n"
          ]
        }
      ]
    },
    {
      "cell_type": "code",
      "source": [
        "# Impute missing values with the mean of each column\n",
        "from sklearn.impute import SimpleImputer\n",
        "imputer = SimpleImputer(strategy='mean')\n",
        "imputed_data = pd.DataFrame(imputer.fit_transform(numeric_data), columns=numeric_data.columns)\n"
      ],
      "metadata": {
        "id": "rKznOG1OH_k2"
      },
      "execution_count": 19,
      "outputs": []
    },
    {
      "cell_type": "code",
      "source": [
        "# Scale the imputed numeric data\n",
        "scaler = StandardScaler()\n",
        "scaled_data = scaler.fit_transform(imputed_data)"
      ],
      "metadata": {
        "id": "UhKQWyHrIM9t"
      },
      "execution_count": 21,
      "outputs": []
    },
    {
      "cell_type": "code",
      "source": [
        "# Add cluster labels to the original dataframe\n",
        "data['Cluster'] = labels"
      ],
      "metadata": {
        "id": "qxhwMS9GGtgE"
      },
      "execution_count": 24,
      "outputs": []
    },
    {
      "cell_type": "code",
      "source": [
        "# Analyze results\n",
        "cluster_centers = scaler.inverse_transform(kmeans.cluster_centers_)\n",
        "cluster_df = pd.DataFrame(cluster_centers, columns=numeric_data.columns)  # Use numeric_data.columns"
      ],
      "metadata": {
        "id": "bBZDnO9JGwEs"
      },
      "execution_count": 26,
      "outputs": []
    },
    {
      "cell_type": "code",
      "source": [],
      "metadata": {
        "id": "WsR6osXsIiNV"
      },
      "execution_count": null,
      "outputs": []
    },
    {
      "cell_type": "code",
      "source": [
        "# Print cluster centers\n",
        "print(\"Cluster Centers:\")\n",
        "print(cluster_df)"
      ],
      "metadata": {
        "colab": {
          "base_uri": "https://localhost:8080/"
        },
        "id": "qKcqwlIMGyEV",
        "outputId": "e967d8a2-440f-45ce-9b82-a6587492ef03"
      },
      "execution_count": 27,
      "outputs": [
        {
          "output_type": "stream",
          "name": "stdout",
          "text": [
            "Cluster Centers:\n",
            "   Anxiety disorders (%)  Drug use disorders (%)  Depression (%)  \\\n",
            "0               3.972510                0.853771        3.488979   \n",
            "1               5.601623                1.541565        4.069338   \n",
            "2               2.909291                0.744885        3.837485   \n",
            "\n",
            "   Alcohol use disorders (%)  \n",
            "0                   1.580840  \n",
            "1                   1.276212  \n",
            "2                   4.202753  \n"
          ]
        }
      ]
    },
    {
      "cell_type": "markdown",
      "source": [],
      "metadata": {
        "id": "ZttaSXdfI3ji"
      }
    },
    {
      "cell_type": "code",
      "source": [],
      "metadata": {
        "id": "T02bYJjAI1Qv"
      },
      "execution_count": null,
      "outputs": []
    },
    {
      "cell_type": "markdown",
      "source": [
        "Cluster 0:\n",
        "\n",
        "\n",
        "Anxiety disorders (%): The prevalence of anxiety disorders in this cluster is moderate, with a mean value of approximately 3.97%.\n",
        "Drug use disorders (%): Drug use disorders are relatively low in this cluster, with a mean value of around 0.85%.\n",
        "Depression (%): The prevalence of depression is moderate, with a mean value of approximately 3.49%.\n",
        "Alcohol use disorders (%): Alcohol use disorders are relatively high in this cluster, with a mean value of about 1.58%.\n",
        "\n",
        "Cluster 1:\n",
        "\n",
        "\n",
        "\n",
        "Anxiety disorders (%): This cluster exhibits a higher prevalence of anxiety disorders compared to Cluster 0, with a mean value of approximately 5.60%.\n",
        "Drug use disorders (%): Drug use disorders are also higher in this cluster compared to Cluster 0, with a mean value of around 1.54%.\n",
        "Depression (%): The prevalence of depression is similar to Cluster 0, with a mean value of approximately 4.07%.\n",
        "Alcohol use disorders (%): Alcohol use disorders are lower in this cluster compared to Cluster 0, with a mean value of about 1.28%.\n",
        "\n",
        "\n",
        "Cluster 2:\n",
        "Anxiety disorders (%): The prevalence of anxiety disorders in this cluster is lower compared to both Cluster 0 and Cluster 1, with a mean value of approximately 2.91%.\n",
        "Drug use disorders (%): Drug use disorders are relatively low in this cluster, with a mean value of around 0.74%.\n",
        "Depression (%): Interestingly, the prevalence of depression is higher in this cluster compared to Cluster 0, with a mean value of approximately 3.84%.\n",
        "Alcohol use disorders (%): Alcohol use disorders are significantly higher in this cluster compared to both Cluster 0 and Cluster 1, with a mean value of about 4.20%.\n",
        "\n",
        "\n",
        "Conclusion:\n",
        "Cluster 1 appears to represent a group with higher rates of anxiety disorders and drug use disorders compared to Clusters 0 and 2.\n",
        "Cluster 0 shows moderate rates of anxiety disorders, depression, and higher rates of alcohol use disorders.\n",
        "Cluster 2 represents a group with lower rates of anxiety disorders but higher rates of depression and alcohol use disorders compared to the other clusters."
      ],
      "metadata": {
        "id": "jJWWTouzI12x"
      }
    },
    {
      "cell_type": "code",
      "source": [],
      "metadata": {
        "id": "mTiYHX3SG4xQ"
      },
      "execution_count": null,
      "outputs": []
    }
  ]
}